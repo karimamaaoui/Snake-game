{
 "cells": [
  {
   "cell_type": "code",
   "execution_count": 70,
   "id": "9dc47448",
   "metadata": {},
   "outputs": [],
   "source": [
    "import turtle"
   ]
  },
  {
   "cell_type": "code",
   "execution_count": 71,
   "id": "64f3ab4f",
   "metadata": {},
   "outputs": [],
   "source": [
    "import time"
   ]
  },
  {
   "cell_type": "code",
   "execution_count": 72,
   "id": "5565c609",
   "metadata": {},
   "outputs": [],
   "source": [
    "delay= 0.1"
   ]
  },
  {
   "cell_type": "code",
   "execution_count": 73,
   "id": "46452902",
   "metadata": {},
   "outputs": [],
   "source": [
    "score=0"
   ]
  },
  {
   "cell_type": "code",
   "execution_count": 74,
   "id": "bb502502",
   "metadata": {},
   "outputs": [],
   "source": [
    "wn=turtle.Screen()"
   ]
  },
  {
   "cell_type": "code",
   "execution_count": 75,
   "id": "ce86ce11",
   "metadata": {},
   "outputs": [],
   "source": [
    "wn.title(\"Snake Game By Karima\")"
   ]
  },
  {
   "cell_type": "code",
   "execution_count": 76,
   "id": "1f99942f",
   "metadata": {},
   "outputs": [],
   "source": [
    "wn.bgcolor(\"Black\")"
   ]
  },
  {
   "cell_type": "code",
   "execution_count": 77,
   "id": "8abc4ffc",
   "metadata": {},
   "outputs": [],
   "source": [
    "wn.setup(width=600,height=600)"
   ]
  },
  {
   "cell_type": "code",
   "execution_count": 78,
   "id": "24a4f0cc",
   "metadata": {},
   "outputs": [],
   "source": [
    "wn.tracer(False)"
   ]
  },
  {
   "cell_type": "code",
   "execution_count": 79,
   "id": "5fb9dac9",
   "metadata": {},
   "outputs": [],
   "source": [
    "wn.addshape('upmouth.gif')\n",
    "wn.addshape('food.gif')\n",
    "wn.addshape('downmouth.gif')\n",
    "wn.addshape('leftmouth.gif')\n",
    "wn.addshape('rightmouth.gif')\n",
    "wn.addshape('body.gif')"
   ]
  },
  {
   "cell_type": "code",
   "execution_count": 80,
   "id": "a7d4fd8c",
   "metadata": {},
   "outputs": [],
   "source": [
    "#snake head"
   ]
  },
  {
   "cell_type": "code",
   "execution_count": 81,
   "id": "b43a21a4",
   "metadata": {},
   "outputs": [],
   "source": [
    "head=turtle.Turtle()"
   ]
  },
  {
   "cell_type": "code",
   "execution_count": 82,
   "id": "5a4f9200",
   "metadata": {},
   "outputs": [],
   "source": [
    "head.shape('upmouth.gif')"
   ]
  },
  {
   "cell_type": "code",
   "execution_count": 83,
   "id": "c341a707",
   "metadata": {},
   "outputs": [],
   "source": [
    "head.penup()"
   ]
  },
  {
   "cell_type": "code",
   "execution_count": 84,
   "id": "b745ce97",
   "metadata": {},
   "outputs": [],
   "source": [
    "head.goto(0,0)"
   ]
  },
  {
   "cell_type": "code",
   "execution_count": 85,
   "id": "edae9a5a",
   "metadata": {},
   "outputs": [],
   "source": [
    "head.direction=\"stop\""
   ]
  },
  {
   "cell_type": "code",
   "execution_count": 86,
   "id": "c25ff9f2",
   "metadata": {},
   "outputs": [],
   "source": [
    "food=turtle.Turtle()\n",
    "food.shape('food.gif')\n",
    "food.penup()\n",
    "food.goto(0,100)"
   ]
  },
  {
   "cell_type": "code",
   "execution_count": 87,
   "id": "4a319962",
   "metadata": {},
   "outputs": [],
   "source": [
    "text=turtle.Turtle()\n",
    "text.penup()\n",
    "text.goto(0,268)\n",
    "text.hideturtle()\n",
    "text.color('white')\n",
    "text.write('Score:0',font=('courier',25,'bold'),align='center')\n"
   ]
  },
  {
   "cell_type": "code",
   "execution_count": 88,
   "id": "f1d1ba57",
   "metadata": {},
   "outputs": [],
   "source": [
    "lost=turtle.Turtle()\n",
    "lost.color('white')\n",
    "lost.penup()\n",
    "lost.hideturtle()\n"
   ]
  },
  {
   "cell_type": "code",
   "execution_count": 89,
   "id": "68901975",
   "metadata": {},
   "outputs": [],
   "source": [
    "# move snake"
   ]
  },
  {
   "cell_type": "code",
   "execution_count": 90,
   "id": "25ab37ef",
   "metadata": {},
   "outputs": [],
   "source": [
    "def move():\n",
    "    if head.direction ==\"up\":\n",
    "        y= head.ycor()\n",
    "        head.sety(y+20)\n",
    "        \n",
    "    if head.direction==\"down\":\n",
    "        y =head.ycor()\n",
    "        head.sety(y-20)\n",
    "\n",
    "    if head.direction==\"left\":\n",
    "        x =head.xcor()\n",
    "        head.setx(x-20)\n",
    "\n",
    "    if head.direction==\"right\":\n",
    "        x =head.xcor()\n",
    "        head.setx(x+ 20)"
   ]
  },
  {
   "cell_type": "code",
   "execution_count": 91,
   "id": "68d200c2",
   "metadata": {},
   "outputs": [],
   "source": [
    "def go_up():\n",
    "    if head.direction!='down':\n",
    "        head.direction='up'\n",
    "        head.shape('upmouth.gif')"
   ]
  },
  {
   "cell_type": "code",
   "execution_count": 92,
   "id": "fd1093d4",
   "metadata": {},
   "outputs": [],
   "source": [
    "def go_down():\n",
    "    if head.direction!='up':\n",
    "        head.direction='down'\n",
    "        head.shape('downmouth.gif')\n"
   ]
  },
  {
   "cell_type": "code",
   "execution_count": 93,
   "id": "8c936411",
   "metadata": {},
   "outputs": [],
   "source": [
    "def go_left():\n",
    "    if head.direction!='right':\n",
    "        head.direction='left'\n",
    "        head.shape('leftmouth.gif')\n"
   ]
  },
  {
   "cell_type": "code",
   "execution_count": 94,
   "id": "341808fb",
   "metadata": {},
   "outputs": [],
   "source": [
    "def go_right():\n",
    "    if head.direction!='left':\n",
    "        head.direction='right'\n",
    "        head.shape('rightmouth.gif')\n"
   ]
  },
  {
   "cell_type": "code",
   "execution_count": 95,
   "id": "a69a61f0",
   "metadata": {},
   "outputs": [],
   "source": [
    "wn.listen()"
   ]
  },
  {
   "cell_type": "code",
   "execution_count": 96,
   "id": "19e68cf0",
   "metadata": {},
   "outputs": [],
   "source": [
    "wn.onkeypress(go_up,'Up')\n",
    "wn.onkeypress(go_down,'Down')\n",
    "wn.onkeypress(go_left,'Left')\n",
    "wn.onkeypress(go_right,'Right')\n",
    "segments=[]"
   ]
  },
  {
   "cell_type": "code",
   "execution_count": 97,
   "id": "0686690a",
   "metadata": {},
   "outputs": [
    {
     "ename": "Terminator",
     "evalue": "",
     "output_type": "error",
     "traceback": [
      "\u001b[1;31m---------------------------------------------------------------------------\u001b[0m",
      "\u001b[1;31mTerminator\u001b[0m                                Traceback (most recent call last)",
      "Cell \u001b[1;32mIn [97], line 2\u001b[0m\n\u001b[0;32m      1\u001b[0m \u001b[38;5;28;01mwhile\u001b[39;00m \u001b[38;5;28;01mTrue\u001b[39;00m:\n\u001b[1;32m----> 2\u001b[0m     \u001b[43mwn\u001b[49m\u001b[38;5;241;43m.\u001b[39;49m\u001b[43mupdate\u001b[49m\u001b[43m(\u001b[49m\u001b[43m)\u001b[49m\n\u001b[0;32m      4\u001b[0m     \u001b[38;5;28;01mif\u001b[39;00m head\u001b[38;5;241m.\u001b[39mxcor()\u001b[38;5;241m>\u001b[39m\u001b[38;5;241m260\u001b[39m \u001b[38;5;129;01mor\u001b[39;00m head\u001b[38;5;241m.\u001b[39mxcor()\u001b[38;5;241m<\u001b[39m\u001b[38;5;241m-\u001b[39m\u001b[38;5;241m260\u001b[39m \u001b[38;5;129;01mor\u001b[39;00m head\u001b[38;5;241m.\u001b[39mycor()\u001b[38;5;241m>\u001b[39m\u001b[38;5;241m260\u001b[39m \u001b[38;5;129;01mor\u001b[39;00m head\u001b[38;5;241m.\u001b[39mycor()\u001b[38;5;241m<\u001b[39m\u001b[38;5;241m-\u001b[39m\u001b[38;5;241m260\u001b[39m:\n\u001b[0;32m      5\u001b[0m         lost\u001b[38;5;241m.\u001b[39mwrite(\u001b[38;5;124m'\u001b[39m\u001b[38;5;124mGame Lost\u001b[39m\u001b[38;5;124m'\u001b[39m,align\u001b[38;5;241m=\u001b[39m\u001b[38;5;124m'\u001b[39m\u001b[38;5;124mcenter\u001b[39m\u001b[38;5;124m'\u001b[39m,font\u001b[38;5;241m=\u001b[39m(\u001b[38;5;124m'\u001b[39m\u001b[38;5;124mcourier\u001b[39m\u001b[38;5;124m'\u001b[39m,\u001b[38;5;241m34\u001b[39m,\u001b[38;5;124m'\u001b[39m\u001b[38;5;124mbold\u001b[39m\u001b[38;5;124m'\u001b[39m))\n",
      "File \u001b[1;32m~\\AppData\\Local\\Programs\\Python\\Python310\\lib\\turtle.py:1304\u001b[0m, in \u001b[0;36mTurtleScreen.update\u001b[1;34m(self)\u001b[0m\n\u001b[0;32m   1302\u001b[0m \u001b[38;5;28mself\u001b[39m\u001b[38;5;241m.\u001b[39m_tracing \u001b[38;5;241m=\u001b[39m \u001b[38;5;28;01mTrue\u001b[39;00m\n\u001b[0;32m   1303\u001b[0m \u001b[38;5;28;01mfor\u001b[39;00m t \u001b[38;5;129;01min\u001b[39;00m \u001b[38;5;28mself\u001b[39m\u001b[38;5;241m.\u001b[39mturtles():\n\u001b[1;32m-> 1304\u001b[0m     \u001b[43mt\u001b[49m\u001b[38;5;241;43m.\u001b[39;49m\u001b[43m_update_data\u001b[49m\u001b[43m(\u001b[49m\u001b[43m)\u001b[49m\n\u001b[0;32m   1305\u001b[0m     t\u001b[38;5;241m.\u001b[39m_drawturtle()\n\u001b[0;32m   1306\u001b[0m \u001b[38;5;28mself\u001b[39m\u001b[38;5;241m.\u001b[39m_tracing \u001b[38;5;241m=\u001b[39m tracing\n",
      "File \u001b[1;32m~\\AppData\\Local\\Programs\\Python\\Python310\\lib\\turtle.py:2647\u001b[0m, in \u001b[0;36mRawTurtle._update_data\u001b[1;34m(self)\u001b[0m\n\u001b[0;32m   2646\u001b[0m \u001b[38;5;28;01mdef\u001b[39;00m \u001b[38;5;21m_update_data\u001b[39m(\u001b[38;5;28mself\u001b[39m):\n\u001b[1;32m-> 2647\u001b[0m     \u001b[38;5;28;43mself\u001b[39;49m\u001b[38;5;241;43m.\u001b[39;49m\u001b[43mscreen\u001b[49m\u001b[38;5;241;43m.\u001b[39;49m\u001b[43m_incrementudc\u001b[49m\u001b[43m(\u001b[49m\u001b[43m)\u001b[49m\n\u001b[0;32m   2648\u001b[0m     \u001b[38;5;28;01mif\u001b[39;00m \u001b[38;5;28mself\u001b[39m\u001b[38;5;241m.\u001b[39mscreen\u001b[38;5;241m.\u001b[39m_updatecounter \u001b[38;5;241m!=\u001b[39m \u001b[38;5;241m0\u001b[39m:\n\u001b[0;32m   2649\u001b[0m         \u001b[38;5;28;01mreturn\u001b[39;00m\n",
      "File \u001b[1;32m~\\AppData\\Local\\Programs\\Python\\Python310\\lib\\turtle.py:1293\u001b[0m, in \u001b[0;36mTurtleScreen._incrementudc\u001b[1;34m(self)\u001b[0m\n\u001b[0;32m   1291\u001b[0m \u001b[38;5;28;01mif\u001b[39;00m \u001b[38;5;129;01mnot\u001b[39;00m TurtleScreen\u001b[38;5;241m.\u001b[39m_RUNNING:\n\u001b[0;32m   1292\u001b[0m     TurtleScreen\u001b[38;5;241m.\u001b[39m_RUNNING \u001b[38;5;241m=\u001b[39m \u001b[38;5;28;01mTrue\u001b[39;00m\n\u001b[1;32m-> 1293\u001b[0m     \u001b[38;5;28;01mraise\u001b[39;00m Terminator\n\u001b[0;32m   1294\u001b[0m \u001b[38;5;28;01mif\u001b[39;00m \u001b[38;5;28mself\u001b[39m\u001b[38;5;241m.\u001b[39m_tracing \u001b[38;5;241m>\u001b[39m \u001b[38;5;241m0\u001b[39m:\n\u001b[0;32m   1295\u001b[0m     \u001b[38;5;28mself\u001b[39m\u001b[38;5;241m.\u001b[39m_updatecounter \u001b[38;5;241m+\u001b[39m\u001b[38;5;241m=\u001b[39m \u001b[38;5;241m1\u001b[39m\n",
      "\u001b[1;31mTerminator\u001b[0m: "
     ]
    }
   ],
   "source": [
    "while True:\n",
    "    wn.update()\n",
    "\n",
    "    if head.xcor()>260 or head.xcor()<-260 or head.ycor()>260 or head.ycor()<-260:\n",
    "        lost.write('Game Lost',align='center',font=('courier',34,'bold'))\n",
    "        time.sleep(1)\n",
    "        lost.clear()\n",
    "        time.sleep(1)\n",
    "        head.goto(0,0)\n",
    "        head.direction='stop'\n",
    "        for bodies in segments:\n",
    "            bodies.goto(1000,1000)\n",
    "        score=0\n",
    "        execution_delay=0.1\n",
    "        segments.clear()\n",
    "        text.clear()\n",
    "        text.write('Score:0',align='center',font=('courier',25,'bold'))\n",
    "\n",
    "\n",
    "\n",
    "\n",
    "    if head.distance(food)<20:\n",
    "        x=random.randint(-255,255)\n",
    "        y=random.randint(-255,255)\n",
    "        food.goto(x,y)\n",
    "        execution_delay=execution_delay-0.003\n",
    "\n",
    "\n",
    "        body=Turtle()\n",
    "        body.penup()\n",
    "        body.shape('body.gif')\n",
    "        segments.append(body)\n",
    "\n",
    "        score=score+10\n",
    "        text.clear()\n",
    "        text.write(f'Score:{score}',font=('courier',25,'bold'),align='center')\n",
    "\n",
    "\n",
    "#Suppose we have eaten 3 times food so inside the segments list we will have\n",
    "    # 3 segments [1st segment,2nd segment,3rd segment]\n",
    "\n",
    "    for i in range(len(segments)-1,0,-1):\n",
    "        x=segments[i-1].xcor()\n",
    "        y=segments[i-1].ycor()\n",
    "        segments[i].goto(x,y)\n",
    "\n",
    "    if len(segments)>0:\n",
    "        x=head.xcor()\n",
    "        y=head.ycor()\n",
    "        segments[0].goto(x,y)\n",
    "\n",
    "\n",
    "\n",
    "\n",
    "\n",
    "\n",
    "\n",
    "    move_snake()\n",
    "\n",
    "    for bodies in segments:\n",
    "        if bodies.distance(head)<20:\n",
    "            time.sleep(1)\n",
    "            head.goto(0,0)\n",
    "            head.direction='stop'\n",
    "\n",
    "            for bodies in segments:\n",
    "                bodies.goto(1000,1000)\n",
    "\n",
    "            segments.clear()\n",
    "            score=0\n",
    "            execution_delay=0.1\n",
    "            lost.write('Game Lost', align='center', font=('courier', 34, 'bold'))\n",
    "            time.sleep(1)\n",
    "            lost.clear()\n",
    "\n",
    "            text.clear()\n",
    "            text.write('Score:0', align='center', font=('courier', 25, 'bold'))\n",
    "\n",
    "    time.sleep(execution_delay)\n",
    "\n"
   ]
  },
  {
   "cell_type": "code",
   "execution_count": null,
   "id": "7a4cd181",
   "metadata": {},
   "outputs": [],
   "source": []
  }
 ],
 "metadata": {
  "kernelspec": {
   "display_name": "Python 3 (ipykernel)",
   "language": "python",
   "name": "python3"
  },
  "language_info": {
   "codemirror_mode": {
    "name": "ipython",
    "version": 3
   },
   "file_extension": ".py",
   "mimetype": "text/x-python",
   "name": "python",
   "nbconvert_exporter": "python",
   "pygments_lexer": "ipython3",
   "version": "3.10.4"
  }
 },
 "nbformat": 4,
 "nbformat_minor": 5
}
